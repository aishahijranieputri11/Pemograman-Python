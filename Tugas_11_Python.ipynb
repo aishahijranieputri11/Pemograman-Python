{
  "nbformat": 4,
  "nbformat_minor": 0,
  "metadata": {
    "colab": {
      "name": "Tugas 11 Python.ipynb",
      "provenance": [],
      "collapsed_sections": [],
      "mount_file_id": "1xwkMdtBPqOZqMhsb-wH6dTCOi_KENOnP",
      "authorship_tag": "ABX9TyMETlS2ASr0nCYKl3p4cw4q",
      "include_colab_link": true
    },
    "kernelspec": {
      "name": "python3",
      "display_name": "Python 3"
    }
  },
  "cells": [
    {
      "cell_type": "markdown",
      "metadata": {
        "id": "view-in-github",
        "colab_type": "text"
      },
      "source": [
        "<a href=\"https://colab.research.google.com/github/aishahijranieputri11/Pemograman-Python/blob/main/Tugas_11_Python.ipynb\" target=\"_parent\"><img src=\"https://colab.research.google.com/assets/colab-badge.svg\" alt=\"Open In Colab\"/></a>"
      ]
    },
    {
      "cell_type": "code",
      "metadata": {
        "colab": {
          "base_uri": "https://localhost:8080/"
        },
        "id": "89xH3QbxYGe9",
        "outputId": "c08683f1-3e6d-4d5b-ec88-1b53892dfdc5"
      },
      "source": [
        "cd/content/drive/MyDrive"
      ],
      "execution_count": null,
      "outputs": [
        {
          "output_type": "stream",
          "text": [
            "/content/drive/MyDrive\n"
          ],
          "name": "stdout"
        }
      ]
    },
    {
      "cell_type": "code",
      "metadata": {
        "id": "6wq0xozDZT8U"
      },
      "source": [
        "ls"
      ],
      "execution_count": null,
      "outputs": []
    },
    {
      "cell_type": "code",
      "metadata": {
        "id": "sWKGtRaiZk7E"
      },
      "source": [
        "from keras.models import Sequential\n",
        "from keras.layers.core import Activation\n",
        "from keras.layers.core import Flatten\n",
        "from keras.layers.core import Dense\n",
        "from keras.optimizers import Adam\n",
        "from sklearn.preprocessing import LabelBinarizer\n",
        "from sklearn.model_selection import train_test_split\n",
        "from sklearn.metrics import classification_report\n",
        "from PIL import Image\n",
        "from imutils import paths\n",
        "import numpy as np\n",
        "import os"
      ],
      "execution_count": null,
      "outputs": []
    },
    {
      "cell_type": "code",
      "metadata": {
        "colab": {
          "base_uri": "https://localhost:8080/"
        },
        "id": "oWPHbrSDZ0c9",
        "outputId": "41c6455d-4b9e-49de-eb44-274c41fc2413"
      },
      "source": [
        "print(\"[INFO] loading images...\")\n",
        "imagePaths = paths.list_images(\"Dataset\")\n",
        "data = []\n",
        "labels = []"
      ],
      "execution_count": null,
      "outputs": [
        {
          "output_type": "stream",
          "text": [
            "[INFO] loading images...\n"
          ],
          "name": "stdout"
        }
      ]
    },
    {
      "cell_type": "code",
      "metadata": {
        "id": "xOKglsgQZ84l"
      },
      "source": [
        "# loop over our input images\n",
        "for imagePath in imagePaths:\n",
        "\t# load the input image from disk, resize it to 240x240 pixels, scale\n",
        "\t# the pixel intensities to the range [0, 1], and then update our\n",
        "\t# images list\n",
        "\timage = Image.open(imagePath)\n",
        "  #preprocessing\n",
        "\timage = np.array(image.resize((240, 240))) / 255.0 #normalisasi\n",
        "\tdata.append(image)\n",
        "\n",
        "\t# extract the class label from the file path and update the\n",
        "\t# labels list\n",
        "\tlabel = imagePath.split(os.path.sep)[-2]\n",
        "\tlabels.append(label)\n"
      ],
      "execution_count": null,
      "outputs": []
    },
    {
      "cell_type": "code",
      "metadata": {
        "colab": {
          "base_uri": "https://localhost:8080/"
        },
        "id": "4JEqqa5Add0A",
        "outputId": "6cbf178b-95c9-4cf8-c021-c4b77311367b"
      },
      "source": [
        "print(labels)"
      ],
      "execution_count": null,
      "outputs": [
        {
          "output_type": "stream",
          "text": [
            "['GMB_05', 'GMB_05', 'GMB_05', 'GMB_05', 'GMB_05', 'GMB_05', 'GMB_05', 'GMB_05', 'GMB_05', 'GMB_05', 'GMB_05', 'GMB_05', 'GMB_05', 'GMB_05', 'GMB_05', 'GMB_05', 'GMB_05', 'GMB_05', 'GMB_05', 'GMB_05', 'GMB_05', 'GMB_05', 'GMB_05', 'GMB_05', 'GMB_05', 'GMB_05', 'GMB_05', 'GMB_05', 'GMB_05', 'GMB_05', 'GMB_05', 'GMB_05', 'GMB_05', 'GMB_05', 'GMB_05', 'GMB_05', 'GMB_05', 'GMB_05', 'GMB_05', 'GMB_05', 'GMB_05', 'GMB_05', 'GMB_05', 'GMB_05', 'GMB_05', 'GMB_05', 'GMB_05', 'GMB_05', 'GMB_05', 'GMB_05', 'GMB_05', 'GMB_05', 'GMB_05', 'GMB_05', 'GMB_05', 'GMB_05', 'GMB_05', 'GMB_05', 'GMB_05', 'GMB_05', 'GMB_05', 'GMB_05', 'GMB_05', 'GMB_05', 'GMB_05', 'GMB_05', 'GMB_05', 'GMB_05', 'GMB_05', 'GMB_05', 'GMB_05', 'GMB_05', 'GMB_05', 'GMB_05', 'GMB_05', 'GMB_05', 'GMB_05', 'GMB_05', 'GMB_05', 'GMB_05', 'GMB_05', 'GMB_05', 'GMB_05', 'GMB_05', 'GMB_05', 'GMB_05', 'GMB_05', 'GMB_05', 'GMB_05', 'GMB_05', 'GMB_05', 'GMB_05', 'GMB_05', 'GMB_05', 'GMB_05', 'GMB_05', 'GMB_05', 'GMB_05', 'GMB_05', 'GMB_05', 'GMB_05', 'GMB_05', 'GMB_05', 'GMB_05', 'GMB_05', 'GMB_05', 'GMB_05', 'GMB_05', 'GMB_05', 'GMB_05', 'GMB_05', 'GMB_05', 'GMB_05', 'GMB_05', 'GMB_05', 'GMB_05', 'GMB_05', 'GMB_05', 'GMB_05', 'GMB_05', 'GMB_05', 'GMB_02', 'GMB_02', 'GMB_02', 'GMB_02', 'GMB_02', 'GMB_02', 'GMB_02', 'GMB_02', 'GMB_02', 'GMB_02', 'GMB_02', 'GMB_02', 'GMB_02', 'GMB_02', 'GMB_02', 'GMB_02', 'GMB_02', 'GMB_02', 'GMB_02', 'GMB_02', 'GMB_02', 'GMB_02', 'GMB_02', 'GMB_02', 'GMB_02', 'GMB_02', 'GMB_02', 'GMB_02', 'GMB_02', 'GMB_02', 'GMB_02', 'GMB_02', 'GMB_02', 'GMB_02', 'GMB_02', 'GMB_02', 'GMB_02', 'GMB_02', 'GMB_02', 'GMB_02', 'GMB_02', 'GMB_02', 'GMB_02', 'GMB_02', 'GMB_02', 'GMB_02', 'GMB_02', 'GMB_02', 'GMB_02', 'GMB_02', 'GMB_02', 'GMB_02', 'GMB_02', 'GMB_02', 'GMB_02', 'GMB_02', 'GMB_02', 'GMB_02', 'GMB_02', 'GMB_02', 'GMB_02', 'GMB_02', 'GMB_02', 'GMB_02', 'GMB_02', 'GMB_02', 'GMB_02', 'GMB_02', 'GMB_02', 'GMB_02', 'GMB_02', 'GMB_02', 'GMB_02', 'GMB_02', 'GMB_02', 'GMB_02', 'GMB_02', 'GMB_02', 'GMB_02', 'GMB_02', 'GMB_02', 'GMB_02', 'GMB_02', 'GMB_02', 'GMB_02', 'GMB_02', 'GMB_02', 'GMB_02', 'GMB_02', 'GMB_02', 'GMB_02', 'GMB_02', 'GMB_02', 'GMB_02', 'GMB_02', 'GMB_02', 'GMB_02', 'GMB_02', 'GMB_02', 'GMB_02', 'GMB_02', 'GMB_02', 'GMB_02', 'GMB_02', 'GMB_02', 'GMB_02', 'GMB_02', 'GMB_02', 'GMB_02', 'GMB_02', 'GMB_02', 'GMB_02', 'GMB_02', 'GMB_01', 'GMB_01', 'GMB_01', 'GMB_01', 'GMB_01', 'GMB_01', 'GMB_01', 'GMB_01', 'GMB_01', 'GMB_01', 'GMB_01', 'GMB_01', 'GMB_01', 'GMB_01', 'GMB_01', 'GMB_01', 'GMB_01', 'GMB_01', 'GMB_01', 'GMB_01', 'GMB_01', 'GMB_01', 'GMB_01', 'GMB_01', 'GMB_01', 'GMB_01', 'GMB_01', 'GMB_01', 'GMB_01', 'GMB_01', 'GMB_01', 'GMB_01', 'GMB_01', 'GMB_01', 'GMB_01', 'GMB_01', 'GMB_01', 'GMB_01', 'GMB_01', 'GMB_01', 'GMB_01', 'GMB_01', 'GMB_01', 'GMB_01', 'GMB_01', 'GMB_01', 'GMB_01', 'GMB_01', 'GMB_01', 'GMB_01', 'GMB_01', 'GMB_01', 'GMB_01', 'GMB_01', 'GMB_01', 'GMB_01', 'GMB_01', 'GMB_01', 'GMB_01', 'GMB_01', 'GMB_01', 'GMB_01', 'GMB_01', 'GMB_01', 'GMB_01', 'GMB_01', 'GMB_01', 'GMB_01', 'GMB_01', 'GMB_01', 'GMB_01', 'GMB_01', 'GMB_01', 'GMB_01', 'GMB_01', 'GMB_01', 'GMB_01', 'GMB_01', 'GMB_01', 'GMB_01', 'GMB_01', 'GMB_01', 'GMB_01', 'GMB_01', 'GMB_01', 'GMB_01', 'GMB_01', 'GMB_01', 'GMB_01', 'GMB_01', 'GMB_01', 'GMB_01', 'GMB_01', 'GMB_01', 'GMB_01', 'GMB_01', 'GMB_01', 'GMB_01', 'GMB_01', 'GMB_01', 'GMB_01', 'GMB_01', 'GMB_01', 'GMB_01', 'GMB_01', 'GMB_01', 'GMB_01', 'GMB_01', 'GMB_01', 'GMB_01', 'GMB_01', 'GMB_01', 'GMB_01', 'GMB_01', 'GMB_01', 'GMB_01', 'GMB_04', 'GMB_04', 'GMB_04', 'GMB_04', 'GMB_04', 'GMB_04', 'GMB_04', 'GMB_04', 'GMB_04', 'GMB_04', 'GMB_04', 'GMB_04', 'GMB_04', 'GMB_04', 'GMB_04', 'GMB_04', 'GMB_04', 'GMB_04', 'GMB_04', 'GMB_04', 'GMB_04', 'GMB_04', 'GMB_04', 'GMB_04', 'GMB_04', 'GMB_04', 'GMB_04', 'GMB_04', 'GMB_04', 'GMB_04', 'GMB_04', 'GMB_04', 'GMB_04', 'GMB_04', 'GMB_04', 'GMB_04', 'GMB_04', 'GMB_04', 'GMB_04', 'GMB_04', 'GMB_04', 'GMB_04', 'GMB_04', 'GMB_04', 'GMB_04', 'GMB_04', 'GMB_04', 'GMB_04', 'GMB_04', 'GMB_04', 'GMB_04', 'GMB_04', 'GMB_04', 'GMB_04', 'GMB_04', 'GMB_04', 'GMB_04', 'GMB_04', 'GMB_04', 'GMB_04', 'GMB_04', 'GMB_04', 'GMB_04', 'GMB_04', 'GMB_04', 'GMB_04', 'GMB_04', 'GMB_04', 'GMB_04', 'GMB_04', 'GMB_04', 'GMB_04', 'GMB_04', 'GMB_04', 'GMB_04', 'GMB_04', 'GMB_04', 'GMB_04', 'GMB_04', 'GMB_04', 'GMB_04', 'GMB_04', 'GMB_04', 'GMB_04', 'GMB_04', 'GMB_04', 'GMB_04', 'GMB_04', 'GMB_04', 'GMB_04', 'GMB_04', 'GMB_04', 'GMB_04', 'GMB_04', 'GMB_04', 'GMB_04', 'GMB_04', 'GMB_04', 'GMB_04', 'GMB_04', 'GMB_04', 'GMB_04', 'GMB_04', 'GMB_04', 'GMB_04', 'GMB_04', 'GMB_04', 'GMB_04', 'GMB_04', 'GMB_04', 'GMB_04', 'GMB_04', 'GMB_04', 'GMB_04', 'GMB_04', 'GMB_04', 'GMB_04', 'GMB_04', 'GMB_04', 'GMB_04', 'GMB_04', 'GMB_04', 'GMB_03', 'GMB_03', 'GMB_03', 'GMB_03', 'GMB_03', 'GMB_03', 'GMB_03', 'GMB_03', 'GMB_03', 'GMB_03', 'GMB_03', 'GMB_03', 'GMB_03', 'GMB_03', 'GMB_03', 'GMB_03', 'GMB_03', 'GMB_03', 'GMB_03', 'GMB_03', 'GMB_03', 'GMB_03', 'GMB_03', 'GMB_03', 'GMB_03', 'GMB_03', 'GMB_03', 'GMB_03', 'GMB_03', 'GMB_03', 'GMB_03', 'GMB_03', 'GMB_03', 'GMB_03', 'GMB_03', 'GMB_03', 'GMB_03', 'GMB_03', 'GMB_03', 'GMB_03', 'GMB_03', 'GMB_03', 'GMB_03', 'GMB_03', 'GMB_03', 'GMB_03', 'GMB_03', 'GMB_03', 'GMB_03', 'GMB_03', 'GMB_03', 'GMB_03', 'GMB_03', 'GMB_03', 'GMB_03', 'GMB_03', 'GMB_03', 'GMB_03', 'GMB_03', 'GMB_03', 'GMB_03', 'GMB_03', 'GMB_03', 'GMB_03', 'GMB_03', 'GMB_03', 'GMB_03', 'GMB_03', 'GMB_03', 'GMB_03', 'GMB_03', 'GMB_03', 'GMB_03', 'GMB_03', 'GMB_03', 'GMB_03', 'GMB_03', 'GMB_03', 'GMB_03', 'GMB_03', 'GMB_03', 'GMB_03', 'GMB_03', 'GMB_03', 'GMB_03', 'GMB_03', 'GMB_03', 'GMB_03', 'GMB_03', 'GMB_03', 'GMB_03', 'GMB_03', 'GMB_03', 'GMB_03', 'GMB_03', 'GMB_03', 'GMB_03', 'GMB_03', 'GMB_03', 'GMB_03', 'GMB_03', 'GMB_03', 'GMB_03', 'GMB_03', 'GMB_03', 'GMB_03', 'GMB_03', 'GMB_03', 'GMB_03', 'GMB_03', 'GMB_03', 'GMB_03']\n"
          ],
          "name": "stdout"
        }
      ]
    },
    {
      "cell_type": "code",
      "metadata": {
        "id": "0dU875Z0dlgO"
      },
      "source": [
        "lb = LabelBinarizer()\n",
        "labels = lb.fit_transform(labels)"
      ],
      "execution_count": null,
      "outputs": []
    },
    {
      "cell_type": "code",
      "metadata": {
        "colab": {
          "base_uri": "https://localhost:8080/"
        },
        "id": "izLqQCjBdrUv",
        "outputId": "f88b9bc0-4974-417e-d8d6-948538a35944"
      },
      "source": [
        "print(labels)"
      ],
      "execution_count": null,
      "outputs": [
        {
          "output_type": "stream",
          "text": [
            "[[0 0 0 0 1]\n",
            " [0 0 0 0 1]\n",
            " [0 0 0 0 1]\n",
            " ...\n",
            " [0 0 1 0 0]\n",
            " [0 0 1 0 0]\n",
            " [0 0 1 0 0]]\n"
          ],
          "name": "stdout"
        }
      ]
    },
    {
      "cell_type": "code",
      "metadata": {
        "colab": {
          "base_uri": "https://localhost:8080/"
        },
        "id": "BHu7LrwadslC",
        "outputId": "e684271f-7a25-4d47-d67d-008ab2e70b1f"
      },
      "source": [
        "(trainX, testX, trainY, testY) = train_test_split(np.array(data),\tnp.array(labels), test_size=0.25, shuffle=True)\n",
        "print(trainX.shape)\n",
        "print(testX.shape)"
      ],
      "execution_count": null,
      "outputs": [
        {
          "output_type": "stream",
          "text": [
            "(438, 240, 240, 3)\n",
            "(146, 240, 240, 3)\n"
          ],
          "name": "stdout"
        }
      ]
    },
    {
      "cell_type": "code",
      "metadata": {
        "colab": {
          "base_uri": "https://localhost:8080/"
        },
        "id": "Q2bqYD0cdwVC",
        "outputId": "6cdb62e5-a9de-4ae8-b6e0-695442cd63d7"
      },
      "source": [
        "from keras.layers import Convolution2D, MaxPool2D\n",
        "from keras.models import Sequential\n",
        "from keras.layers.core import Flatten, Dense\n",
        "\n",
        "model1 = Sequential()\n",
        "model1.add(Convolution2D(8, (3,3), activation='relu', input_shape=(240,240,3)))\n",
        "model1.add(MaxPool2D(2,2))\n",
        "model1.add(Convolution2D(16, (3,3), activation='relu'))\n",
        "model1.add(MaxPool2D(2,2))\n",
        "model1.add(Convolution2D(32, (3,3), activation='relu'))\n",
        "model1.add(MaxPool2D(2,2))\n",
        "#fully connected layer\n",
        "model1.add(Flatten())\n",
        "model1.add(Dense(100, activation='relu'))\n",
        "model1.add(Dense(5, activation='softmax'))\n",
        "\n",
        "model1.summary()"
      ],
      "execution_count": null,
      "outputs": [
        {
          "output_type": "stream",
          "text": [
            "Model: \"sequential_6\"\n",
            "_________________________________________________________________\n",
            "Layer (type)                 Output Shape              Param #   \n",
            "=================================================================\n",
            "conv2d_9 (Conv2D)            (None, 238, 238, 8)       224       \n",
            "_________________________________________________________________\n",
            "max_pooling2d_9 (MaxPooling2 (None, 119, 119, 8)       0         \n",
            "_________________________________________________________________\n",
            "conv2d_10 (Conv2D)           (None, 117, 117, 16)      1168      \n",
            "_________________________________________________________________\n",
            "max_pooling2d_10 (MaxPooling (None, 58, 58, 16)        0         \n",
            "_________________________________________________________________\n",
            "conv2d_11 (Conv2D)           (None, 56, 56, 32)        4640      \n",
            "_________________________________________________________________\n",
            "max_pooling2d_11 (MaxPooling (None, 28, 28, 32)        0         \n",
            "_________________________________________________________________\n",
            "flatten_6 (Flatten)          (None, 25088)             0         \n",
            "_________________________________________________________________\n",
            "dense_6 (Dense)              (None, 100)               2508900   \n",
            "_________________________________________________________________\n",
            "dense_7 (Dense)              (None, 5)                 505       \n",
            "=================================================================\n",
            "Total params: 2,515,437\n",
            "Trainable params: 2,515,437\n",
            "Non-trainable params: 0\n",
            "_________________________________________________________________\n"
          ],
          "name": "stdout"
        }
      ]
    },
    {
      "cell_type": "code",
      "metadata": {
        "id": "6LljmfWvd8NV"
      },
      "source": [
        "from keras.models import Sequential\n",
        "from keras.layers.core import Flatten\n",
        "from keras.layers.core import Dense\n",
        "\n",
        "model = Sequential(\n",
        "    [\n",
        "        Flatten(input_shape=(240*240*3,)),\n",
        "        Dense(100, activation=\"relu\", name=\"layer1\"),\n",
        "        Dense(16, activation=\"relu\", name=\"layer2\"),\n",
        "        Dense(16, activation=\"relu\", name=\"layer3\"),\n",
        "        Dense(3, activation = \"softmax\", name=\"layer4\"),\n",
        "    ]\n",
        ")"
      ],
      "execution_count": null,
      "outputs": []
    },
    {
      "cell_type": "code",
      "metadata": {
        "colab": {
          "base_uri": "https://localhost:8080/"
        },
        "id": "5KSE9_oVeBxn",
        "outputId": "761ee35f-6c5b-4236-b12f-3e97abc1d687"
      },
      "source": [
        "model.summary()"
      ],
      "execution_count": null,
      "outputs": [
        {
          "output_type": "stream",
          "text": [
            "Model: \"sequential_7\"\n",
            "_________________________________________________________________\n",
            "Layer (type)                 Output Shape              Param #   \n",
            "=================================================================\n",
            "flatten_7 (Flatten)          (None, 172800)            0         \n",
            "_________________________________________________________________\n",
            "layer1 (Dense)               (None, 100)               17280100  \n",
            "_________________________________________________________________\n",
            "layer2 (Dense)               (None, 16)                1616      \n",
            "_________________________________________________________________\n",
            "layer3 (Dense)               (None, 16)                272       \n",
            "_________________________________________________________________\n",
            "layer4 (Dense)               (None, 3)                 51        \n",
            "=================================================================\n",
            "Total params: 17,282,039\n",
            "Trainable params: 17,282,039\n",
            "Non-trainable params: 0\n",
            "_________________________________________________________________\n"
          ],
          "name": "stdout"
        }
      ]
    },
    {
      "cell_type": "code",
      "metadata": {
        "colab": {
          "base_uri": "https://localhost:8080/"
        },
        "id": "RBV4YOfJeE_-",
        "outputId": "c84f19ab-e475-40e0-81e2-5240bcd89d1a"
      },
      "source": [
        "print(\"[INFO] training network...\")\n",
        "opt = Adam(lr=1e-3, decay=1e-3 / 50)\n",
        "model1.compile(loss=\"categorical_crossentropy\", optimizer=opt, metrics=[\"accuracy\"])"
      ],
      "execution_count": null,
      "outputs": [
        {
          "output_type": "stream",
          "text": [
            "[INFO] training network...\n"
          ],
          "name": "stdout"
        }
      ]
    },
    {
      "cell_type": "code",
      "metadata": {
        "colab": {
          "base_uri": "https://localhost:8080/"
        },
        "id": "W5HCNGlbeIiO",
        "outputId": "224e88e1-d5da-4847-df4f-c827e2503c85"
      },
      "source": [
        "H = model1.fit(trainX, trainY, validation_data=(testX,testY), epochs=25,batch_size=32)"
      ],
      "execution_count": null,
      "outputs": [
        {
          "output_type": "stream",
          "text": [
            "Epoch 1/25\n",
            "14/14 [==============================] - 13s 942ms/step - loss: 1.9538 - accuracy: 0.2123 - val_loss: 1.6243 - val_accuracy: 0.1301\n",
            "Epoch 2/25\n",
            "14/14 [==============================] - 13s 937ms/step - loss: 1.5707 - accuracy: 0.2717 - val_loss: 1.5418 - val_accuracy: 0.3973\n",
            "Epoch 3/25\n",
            "14/14 [==============================] - 13s 937ms/step - loss: 1.3695 - accuracy: 0.4863 - val_loss: 1.3461 - val_accuracy: 0.4795\n",
            "Epoch 4/25\n",
            "14/14 [==============================] - 13s 944ms/step - loss: 1.0573 - accuracy: 0.5822 - val_loss: 1.1566 - val_accuracy: 0.5753\n",
            "Epoch 5/25\n",
            "14/14 [==============================] - 13s 943ms/step - loss: 0.6953 - accuracy: 0.7671 - val_loss: 1.1017 - val_accuracy: 0.6781\n",
            "Epoch 6/25\n",
            "14/14 [==============================] - 13s 949ms/step - loss: 0.5098 - accuracy: 0.8288 - val_loss: 1.0219 - val_accuracy: 0.6781\n",
            "Epoch 7/25\n",
            "14/14 [==============================] - 13s 956ms/step - loss: 0.3547 - accuracy: 0.8813 - val_loss: 0.8865 - val_accuracy: 0.7329\n",
            "Epoch 8/25\n",
            "14/14 [==============================] - 13s 959ms/step - loss: 0.2343 - accuracy: 0.9269 - val_loss: 0.8457 - val_accuracy: 0.7466\n",
            "Epoch 9/25\n",
            "14/14 [==============================] - 14s 1s/step - loss: 0.1840 - accuracy: 0.9406 - val_loss: 1.1581 - val_accuracy: 0.6301\n",
            "Epoch 10/25\n",
            "14/14 [==============================] - 14s 995ms/step - loss: 0.1664 - accuracy: 0.9429 - val_loss: 0.8967 - val_accuracy: 0.7740\n",
            "Epoch 11/25\n",
            "14/14 [==============================] - 13s 959ms/step - loss: 0.0764 - accuracy: 0.9795 - val_loss: 0.8674 - val_accuracy: 0.8014\n",
            "Epoch 12/25\n",
            "14/14 [==============================] - 13s 960ms/step - loss: 0.0574 - accuracy: 0.9817 - val_loss: 1.0165 - val_accuracy: 0.8082\n",
            "Epoch 13/25\n",
            "14/14 [==============================] - 13s 956ms/step - loss: 0.0404 - accuracy: 0.9909 - val_loss: 0.9988 - val_accuracy: 0.8082\n",
            "Epoch 14/25\n",
            "14/14 [==============================] - 14s 965ms/step - loss: 0.0288 - accuracy: 0.9977 - val_loss: 1.0742 - val_accuracy: 0.8014\n",
            "Epoch 15/25\n",
            "14/14 [==============================] - 13s 954ms/step - loss: 0.0373 - accuracy: 0.9909 - val_loss: 0.9811 - val_accuracy: 0.7740\n",
            "Epoch 16/25\n",
            "14/14 [==============================] - 13s 956ms/step - loss: 0.0343 - accuracy: 0.9977 - val_loss: 1.3413 - val_accuracy: 0.7740\n",
            "Epoch 17/25\n",
            "14/14 [==============================] - 13s 946ms/step - loss: 0.0369 - accuracy: 0.9909 - val_loss: 0.9329 - val_accuracy: 0.7808\n",
            "Epoch 18/25\n",
            "14/14 [==============================] - 13s 954ms/step - loss: 0.0179 - accuracy: 0.9954 - val_loss: 0.9866 - val_accuracy: 0.8082\n",
            "Epoch 19/25\n",
            "14/14 [==============================] - 14s 967ms/step - loss: 0.0134 - accuracy: 1.0000 - val_loss: 0.9780 - val_accuracy: 0.7945\n",
            "Epoch 20/25\n",
            "14/14 [==============================] - 13s 954ms/step - loss: 0.0090 - accuracy: 1.0000 - val_loss: 1.0682 - val_accuracy: 0.8219\n",
            "Epoch 21/25\n",
            "14/14 [==============================] - 13s 953ms/step - loss: 0.0056 - accuracy: 1.0000 - val_loss: 1.1080 - val_accuracy: 0.8151\n",
            "Epoch 22/25\n",
            "14/14 [==============================] - 13s 956ms/step - loss: 0.0036 - accuracy: 1.0000 - val_loss: 1.1519 - val_accuracy: 0.7945\n",
            "Epoch 23/25\n",
            "14/14 [==============================] - 13s 960ms/step - loss: 0.0031 - accuracy: 1.0000 - val_loss: 1.1166 - val_accuracy: 0.8219\n",
            "Epoch 24/25\n",
            "14/14 [==============================] - 13s 960ms/step - loss: 0.0025 - accuracy: 1.0000 - val_loss: 1.1382 - val_accuracy: 0.8288\n",
            "Epoch 25/25\n",
            "14/14 [==============================] - 14s 966ms/step - loss: 0.0019 - accuracy: 1.0000 - val_loss: 1.1476 - val_accuracy: 0.8219\n"
          ],
          "name": "stdout"
        }
      ]
    },
    {
      "cell_type": "code",
      "metadata": {
        "colab": {
          "base_uri": "https://localhost:8080/",
          "height": 590
        },
        "id": "a0GJtP1mfub6",
        "outputId": "1be48daa-40b2-487e-8ecf-09929d41e2e1"
      },
      "source": [
        "import matplotlib.pyplot as plt\n",
        "\n",
        "print(H.history.keys())\n",
        "# summarize history for accuracy\n",
        "plt.plot(H.history['accuracy'])\n",
        "plt.plot(H.history['val_accuracy'])\n",
        "plt.title('model accuracy')\n",
        "plt.ylabel('accuracy')\n",
        "plt.xlabel('epoch')\n",
        "plt.legend(['train', 'test'], loc='upper left')\n",
        "plt.show()\n",
        "# summarize history for loss\n",
        "plt.plot(H.history['loss'])\n",
        "plt.plot(H.history['val_loss'])\n",
        "plt.title('model loss')\n",
        "plt.ylabel('loss')\n",
        "plt.xlabel('epoch')\n",
        "plt.legend(['train', 'test'], loc='upper left')\n",
        "plt.show()"
      ],
      "execution_count": null,
      "outputs": [
        {
          "output_type": "stream",
          "text": [
            "dict_keys(['loss', 'accuracy', 'val_loss', 'val_accuracy'])\n"
          ],
          "name": "stdout"
        },
        {
          "output_type": "display_data",
          "data": {
            "image/png": "[encoded data removed]",
            "text/plain": [
              "<Figure size 432x288 with 1 Axes>"
            ]
          },
          "metadata": {
            "tags": [],
            "needs_background": "light"
          }
        },
        {
          "output_type": "display_data",
          "data": {
            "image/png": "[encoded data removed]",
            "text/plain": [
              "<Figure size 432x288 with 1 Axes>"
            ]
          },
          "metadata": {
            "tags": [],
            "needs_background": "light"
          }
        }
      ]
    },
    {
      "cell_type": "code",
      "metadata": {
        "colab": {
          "base_uri": "https://localhost:8080/"
        },
        "id": "sWkNxHBWgVk4",
        "outputId": "86217459-acdd-48b4-d355-251e1966ac88"
      },
      "source": [
        "# evaluate the network\n",
        "print(\"[INFO] evaluating network...\")\n",
        "predictions = model1.predict(testX, batch_size=32)\n",
        "print(classification_report(testY.argmax(axis=1),\n",
        "\tpredictions.argmax(axis=1), target_names=lb.classes_))"
      ],
      "execution_count": null,
      "outputs": [
        {
          "output_type": "stream",
          "text": [
            "[INFO] evaluating network...\n",
            "              precision    recall  f1-score   support\n",
            "\n",
            "      GMB_01       0.88      0.68      0.76        31\n",
            "      GMB_02       0.66      0.89      0.76        28\n",
            "      GMB_03       0.93      0.68      0.79        19\n",
            "      GMB_04       0.85      0.90      0.88        31\n",
            "      GMB_05       0.89      0.89      0.89        37\n",
            "\n",
            "    accuracy                           0.82       146\n",
            "   macro avg       0.84      0.81      0.82       146\n",
            "weighted avg       0.84      0.82      0.82       146\n",
            "\n"
          ],
          "name": "stdout"
        }
      ]
    },
    {
      "cell_type": "code",
      "metadata": {
        "colab": {
          "base_uri": "https://localhost:8080/"
        },
        "id": "q9yapmhyn-TW",
        "outputId": "33076f31-e366-4043-c6bd-7e801b54e210"
      },
      "source": [
        "model.save('nnmodel_daun')"
      ],
      "execution_count": null,
      "outputs": [
        {
          "output_type": "stream",
          "text": [
            "WARNING:tensorflow:From /usr/local/lib/python3.6/dist-packages/tensorflow/python/training/tracking/tracking.py:111: Model.state_updates (from tensorflow.python.keras.engine.training) is deprecated and will be removed in a future version.\n",
            "Instructions for updating:\n",
            "This property should not be used in TensorFlow 2.0, as updates are applied automatically.\n",
            "WARNING:tensorflow:From /usr/local/lib/python3.6/dist-packages/tensorflow/python/training/tracking/tracking.py:111: Layer.updates (from tensorflow.python.keras.engine.base_layer) is deprecated and will be removed in a future version.\n",
            "Instructions for updating:\n",
            "This property should not be used in TensorFlow 2.0, as updates are applied automatically.\n",
            "INFO:tensorflow:Assets written to: nnmodel_daun/assets\n"
          ],
          "name": "stdout"
        }
      ]
    }
  ]
}